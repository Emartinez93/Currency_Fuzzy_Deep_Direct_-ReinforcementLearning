{
 "cells": [
  {
   "cell_type": "markdown",
   "id": "8c341934",
   "metadata": {},
   "source": [
    "First, we will import the libraries we will use. We will focus our data mainly from numpy converted from the Dataframe we obtained form yahoo finance"
   ]
  },
  {
   "cell_type": "code",
   "execution_count": 27,
   "id": "106d3d30",
   "metadata": {},
   "outputs": [],
   "source": [
    "import tensorflow as tf\n",
    "import pandas as pd\n",
    "import datetime as dt\n",
    "import matplotlib.pyplot as plt\n",
    "import numpy as np\n",
    "%matplotlib inline\n",
    "import pandas_datareader.data as web\n",
    "import pandas_datareader as pdr\n",
    "from datetime import datetime\n",
    "from pandas import Series,DataFrame"
   ]
  },
  {
   "cell_type": "markdown",
   "id": "253a7a3f",
   "metadata": {},
   "source": [
    "We will create a list, if in some future we decide to implement our model in more assets"
   ]
  },
  {
   "cell_type": "code",
   "execution_count": 28,
   "id": "465a4a79",
   "metadata": {},
   "outputs": [],
   "source": [
    "my_list = ['USDMXN=X']"
   ]
  },
  {
   "cell_type": "markdown",
   "id": "7bfe8cc8",
   "metadata": {},
   "source": [
    "We will state the start and end of our data time in days."
   ]
  },
  {
   "cell_type": "code",
   "execution_count": 29,
   "id": "eb4eb548",
   "metadata": {},
   "outputs": [],
   "source": [
    "end = datetime.now()\n",
    "\n",
    "start = datetime(end.year-14,end.month,end.day) "
   ]
  },
  {
   "cell_type": "markdown",
   "id": "628c4fc2",
   "metadata": {},
   "source": [
    "Using globals method, we will obtain the Dataframe from yahoo finance to obtain our assets price data."
   ]
  },
  {
   "cell_type": "code",
   "execution_count": 30,
   "id": "d86a87b0",
   "metadata": {},
   "outputs": [],
   "source": [
    "for currency in my_list:\n",
    "    globals()[currency.replace('=X', \"\")] = web.DataReader(currency,'yahoo',start,end)"
   ]
  },
  {
   "cell_type": "code",
   "execution_count": 31,
   "id": "ccb2efd3",
   "metadata": {},
   "outputs": [
    {
     "data": {
      "text/html": [
       "<div>\n",
       "<style scoped>\n",
       "    .dataframe tbody tr th:only-of-type {\n",
       "        vertical-align: middle;\n",
       "    }\n",
       "\n",
       "    .dataframe tbody tr th {\n",
       "        vertical-align: top;\n",
       "    }\n",
       "\n",
       "    .dataframe thead th {\n",
       "        text-align: right;\n",
       "    }\n",
       "</style>\n",
       "<table border=\"1\" class=\"dataframe\">\n",
       "  <thead>\n",
       "    <tr style=\"text-align: right;\">\n",
       "      <th></th>\n",
       "      <th>High</th>\n",
       "      <th>Low</th>\n",
       "      <th>Open</th>\n",
       "      <th>Close</th>\n",
       "      <th>Volume</th>\n",
       "      <th>Adj Close</th>\n",
       "    </tr>\n",
       "    <tr>\n",
       "      <th>Date</th>\n",
       "      <th></th>\n",
       "      <th></th>\n",
       "      <th></th>\n",
       "      <th></th>\n",
       "      <th></th>\n",
       "      <th></th>\n",
       "    </tr>\n",
       "  </thead>\n",
       "  <tbody>\n",
       "    <tr>\n",
       "      <th>2021-12-01</th>\n",
       "      <td>21.435320</td>\n",
       "      <td>21.117599</td>\n",
       "      <td>21.404699</td>\n",
       "      <td>21.411800</td>\n",
       "      <td>0.0</td>\n",
       "      <td>21.411800</td>\n",
       "    </tr>\n",
       "    <tr>\n",
       "      <th>2021-12-02</th>\n",
       "      <td>21.477980</td>\n",
       "      <td>21.239981</td>\n",
       "      <td>21.462900</td>\n",
       "      <td>21.471569</td>\n",
       "      <td>0.0</td>\n",
       "      <td>21.471569</td>\n",
       "    </tr>\n",
       "    <tr>\n",
       "      <th>2021-12-03</th>\n",
       "      <td>21.486099</td>\n",
       "      <td>21.153000</td>\n",
       "      <td>21.296101</td>\n",
       "      <td>21.308540</td>\n",
       "      <td>0.0</td>\n",
       "      <td>21.308540</td>\n",
       "    </tr>\n",
       "    <tr>\n",
       "      <th>2021-12-06</th>\n",
       "      <td>21.294760</td>\n",
       "      <td>21.159901</td>\n",
       "      <td>21.223499</td>\n",
       "      <td>21.221001</td>\n",
       "      <td>0.0</td>\n",
       "      <td>21.221001</td>\n",
       "    </tr>\n",
       "    <tr>\n",
       "      <th>2021-12-07</th>\n",
       "      <td>21.304010</td>\n",
       "      <td>21.013000</td>\n",
       "      <td>21.223200</td>\n",
       "      <td>21.058201</td>\n",
       "      <td>0.0</td>\n",
       "      <td>21.058201</td>\n",
       "    </tr>\n",
       "  </tbody>\n",
       "</table>\n",
       "</div>"
      ],
      "text/plain": [
       "                 High        Low       Open      Close  Volume  Adj Close\n",
       "Date                                                                     \n",
       "2021-12-01  21.435320  21.117599  21.404699  21.411800     0.0  21.411800\n",
       "2021-12-02  21.477980  21.239981  21.462900  21.471569     0.0  21.471569\n",
       "2021-12-03  21.486099  21.153000  21.296101  21.308540     0.0  21.308540\n",
       "2021-12-06  21.294760  21.159901  21.223499  21.221001     0.0  21.221001\n",
       "2021-12-07  21.304010  21.013000  21.223200  21.058201     0.0  21.058201"
      ]
     },
     "execution_count": 31,
     "metadata": {},
     "output_type": "execute_result"
    }
   ],
   "source": [
    "USDMXN.tail()"
   ]
  },
  {
   "cell_type": "code",
   "execution_count": 32,
   "id": "33e3bbf8",
   "metadata": {},
   "outputs": [
    {
     "data": {
      "text/html": [
       "<div>\n",
       "<style scoped>\n",
       "    .dataframe tbody tr th:only-of-type {\n",
       "        vertical-align: middle;\n",
       "    }\n",
       "\n",
       "    .dataframe tbody tr th {\n",
       "        vertical-align: top;\n",
       "    }\n",
       "\n",
       "    .dataframe thead th {\n",
       "        text-align: right;\n",
       "    }\n",
       "</style>\n",
       "<table border=\"1\" class=\"dataframe\">\n",
       "  <thead>\n",
       "    <tr style=\"text-align: right;\">\n",
       "      <th></th>\n",
       "      <th>High</th>\n",
       "      <th>Low</th>\n",
       "      <th>Open</th>\n",
       "      <th>Close</th>\n",
       "      <th>Volume</th>\n",
       "      <th>Adj Close</th>\n",
       "    </tr>\n",
       "  </thead>\n",
       "  <tbody>\n",
       "    <tr>\n",
       "      <th>count</th>\n",
       "      <td>3649.000000</td>\n",
       "      <td>3649.000000</td>\n",
       "      <td>3649.000000</td>\n",
       "      <td>3649.000000</td>\n",
       "      <td>3649.0</td>\n",
       "      <td>3649.000000</td>\n",
       "    </tr>\n",
       "    <tr>\n",
       "      <th>mean</th>\n",
       "      <td>15.951963</td>\n",
       "      <td>15.769423</td>\n",
       "      <td>15.855533</td>\n",
       "      <td>15.857140</td>\n",
       "      <td>0.0</td>\n",
       "      <td>15.857140</td>\n",
       "    </tr>\n",
       "    <tr>\n",
       "      <th>std</th>\n",
       "      <td>3.553348</td>\n",
       "      <td>3.501710</td>\n",
       "      <td>3.526766</td>\n",
       "      <td>3.525552</td>\n",
       "      <td>0.0</td>\n",
       "      <td>3.525552</td>\n",
       "    </tr>\n",
       "    <tr>\n",
       "      <th>min</th>\n",
       "      <td>9.933700</td>\n",
       "      <td>9.834000</td>\n",
       "      <td>9.866500</td>\n",
       "      <td>9.866500</td>\n",
       "      <td>0.0</td>\n",
       "      <td>9.866500</td>\n",
       "    </tr>\n",
       "    <tr>\n",
       "      <th>25%</th>\n",
       "      <td>12.977060</td>\n",
       "      <td>12.835900</td>\n",
       "      <td>12.903000</td>\n",
       "      <td>12.906790</td>\n",
       "      <td>0.0</td>\n",
       "      <td>12.906790</td>\n",
       "    </tr>\n",
       "    <tr>\n",
       "      <th>50%</th>\n",
       "      <td>14.734640</td>\n",
       "      <td>14.576000</td>\n",
       "      <td>14.659000</td>\n",
       "      <td>14.661700</td>\n",
       "      <td>0.0</td>\n",
       "      <td>14.661700</td>\n",
       "    </tr>\n",
       "    <tr>\n",
       "      <th>75%</th>\n",
       "      <td>19.175591</td>\n",
       "      <td>18.998550</td>\n",
       "      <td>19.083000</td>\n",
       "      <td>19.084999</td>\n",
       "      <td>0.0</td>\n",
       "      <td>19.084999</td>\n",
       "    </tr>\n",
       "    <tr>\n",
       "      <th>max</th>\n",
       "      <td>25.765341</td>\n",
       "      <td>24.728029</td>\n",
       "      <td>25.315100</td>\n",
       "      <td>25.336201</td>\n",
       "      <td>0.0</td>\n",
       "      <td>25.336201</td>\n",
       "    </tr>\n",
       "  </tbody>\n",
       "</table>\n",
       "</div>"
      ],
      "text/plain": [
       "              High          Low         Open        Close  Volume    Adj Close\n",
       "count  3649.000000  3649.000000  3649.000000  3649.000000  3649.0  3649.000000\n",
       "mean     15.951963    15.769423    15.855533    15.857140     0.0    15.857140\n",
       "std       3.553348     3.501710     3.526766     3.525552     0.0     3.525552\n",
       "min       9.933700     9.834000     9.866500     9.866500     0.0     9.866500\n",
       "25%      12.977060    12.835900    12.903000    12.906790     0.0    12.906790\n",
       "50%      14.734640    14.576000    14.659000    14.661700     0.0    14.661700\n",
       "75%      19.175591    18.998550    19.083000    19.084999     0.0    19.084999\n",
       "max      25.765341    24.728029    25.315100    25.336201     0.0    25.336201"
      ]
     },
     "execution_count": 32,
     "metadata": {},
     "output_type": "execute_result"
    }
   ],
   "source": [
    "USDMXN.describe()"
   ]
  },
  {
   "cell_type": "code",
   "execution_count": 33,
   "id": "f8f2111f",
   "metadata": {},
   "outputs": [
    {
     "name": "stdout",
     "output_type": "stream",
     "text": [
      "<class 'pandas.core.frame.DataFrame'>\n",
      "DatetimeIndex: 3649 entries, 2007-12-07 to 2021-12-07\n",
      "Data columns (total 6 columns):\n",
      " #   Column     Non-Null Count  Dtype  \n",
      "---  ------     --------------  -----  \n",
      " 0   High       3649 non-null   float64\n",
      " 1   Low        3649 non-null   float64\n",
      " 2   Open       3649 non-null   float64\n",
      " 3   Close      3649 non-null   float64\n",
      " 4   Volume     3649 non-null   float64\n",
      " 5   Adj Close  3649 non-null   float64\n",
      "dtypes: float64(6)\n",
      "memory usage: 199.6 KB\n"
     ]
    }
   ],
   "source": [
    "USDMXN.info()"
   ]
  },
  {
   "cell_type": "code",
   "execution_count": 34,
   "id": "282368a5",
   "metadata": {
    "scrolled": true
   },
   "outputs": [
    {
     "data": {
      "text/plain": [
       "<AxesSubplot:xlabel='Date'>"
      ]
     },
     "execution_count": 34,
     "metadata": {},
     "output_type": "execute_result"
    },
    {
     "data": {
      "image/png": "[encoded data removed]",
      "text/plain": [
       "<Figure size 864x360 with 1 Axes>"
      ]
     },
     "metadata": {
      "needs_background": "light"
     },
     "output_type": "display_data"
    }
   ],
   "source": [
    "USDMXN['Adj Close'].plot(legend=True,figsize=(12,5))"
   ]
  },
  {
   "cell_type": "markdown",
   "id": "a3a8961c",
   "metadata": {},
   "source": [
    "We will create a numpy array of our Adjusted daily prices"
   ]
  },
  {
   "cell_type": "code",
   "execution_count": 35,
   "id": "47543cdf",
   "metadata": {},
   "outputs": [],
   "source": [
    "df = USDMXN\n",
    "p = df['Adj Close'].to_numpy()\n",
    "l = []"
   ]
  },
  {
   "cell_type": "code",
   "execution_count": 36,
   "id": "6f572f95",
   "metadata": {},
   "outputs": [],
   "source": [
    "tf.compat.v1.reset_default_graph()"
   ]
  },
  {
   "cell_type": "markdown",
   "id": "2ad0c910",
   "metadata": {},
   "source": [
    "We will state: ts= time steps, m= number of price ticks, c= comission, 2 pips. and batch size which will be 1"
   ]
  },
  {
   "cell_type": "code",
   "execution_count": 37,
   "id": "351e3768",
   "metadata": {},
   "outputs": [],
   "source": [
    "n = len(p)\n",
    "ts = 10\n",
    "m = 50\n",
    "c = 0.0002\n",
    "batch_size = 3"
   ]
  },
  {
   "cell_type": "markdown",
   "id": "530f0531",
   "metadata": {},
   "source": [
    "We will get the price differences with numpy changig the shape and we will state our decisions, which are buy=1, 0=hold, and -1=sell."
   ]
  },
  {
   "cell_type": "code",
   "execution_count": 38,
   "id": "18f2bb90",
   "metadata": {},
   "outputs": [],
   "source": [
    "z = np.array([p[i+1] - p[i] for i in range(n-1)])\n",
    "z = z.reshape([n-1,1])\n",
    "decisions = np.array([1,0,-1])"
   ]
  },
  {
   "cell_type": "code",
   "execution_count": 39,
   "id": "6dce47e1",
   "metadata": {},
   "outputs": [],
   "source": [
    "def next_batch(t):\n",
    "    l1 = ind\n",
    "    \n",
    "    l2 = ind+m+ts\n",
    "    \n",
    "    return z[l1:l2]"
   ]
  },
  {
   "cell_type": "code",
   "execution_count": 40,
   "id": "8c1cd426",
   "metadata": {},
   "outputs": [],
   "source": [
    "def init_weights(shape):\n",
    "    rn = tf.random.normal(shape)\n",
    "    return tf.Variable(rn)"
   ]
  },
  {
   "cell_type": "code",
   "execution_count": 41,
   "id": "ad998a84",
   "metadata": {},
   "outputs": [],
   "source": [
    "def inp_layer(x,W,b):\n",
    "    return tf.matmul(tf.transpose(W),x) + b"
   ]
  },
  {
   "cell_type": "code",
   "execution_count": 42,
   "id": "7bf03e2d",
   "metadata": {},
   "outputs": [],
   "source": [
    "def out_inp_layer(d,U):\n",
    "    return tf.matmul(tf.transpose(U),d)"
   ]
  },
  {
   "cell_type": "code",
   "execution_count": 43,
   "id": "18b76770",
   "metadata": {},
   "outputs": [],
   "source": [
    "def output(x,y):\n",
    "    return tf.tanh(x+y)"
   ]
  },
  {
   "cell_type": "code",
   "execution_count": 44,
   "id": "34d0e98f",
   "metadata": {},
   "outputs": [],
   "source": [
    "def forward_prop(ft,dt,W,b,U):\n",
    "    i1 = inp_layer(ft,W,b)\n",
    "    i2 = out_inp_layer(dt,U)\n",
    "    o = output(i1,i2)\n",
    "    return o"
   ]
  },
  {
   "cell_type": "code",
   "execution_count": 45,
   "id": "53706e8a",
   "metadata": {},
   "outputs": [],
   "source": [
    "def unfolded(features,W,b,U,dt):\n",
    "    delta = [dt]\n",
    "    r = []\n",
    "    for i in range(1,ts+1):\n",
    "        f = tf.slice(features,[i-1,0],[m,1])\n",
    "        l.append(f)\n",
    "        delta.append(forward_prop(f,delta[i-1],W,b,U))\n",
    "        Rt = delta[i-1]*z[i-1] - c*tf.abs(delta[i] - delta[i-1])\n",
    "        r.append(Rt)\n",
    "    UT = sum(r)\n",
    "    return UT,r,delta"
   ]
  },
  {
   "cell_type": "code",
   "execution_count": 46,
   "id": "bc368545",
   "metadata": {
    "scrolled": true
   },
   "outputs": [
    {
     "data": {
      "text/plain": [
       "[<matplotlib.lines.Line2D at 0x1a6cd5f4b50>]"
      ]
     },
     "execution_count": 46,
     "metadata": {},
     "output_type": "execute_result"
    },
    {
     "data": {
      "image/png": "[encoded data removed]",
      "text/plain": [
       "<Figure size 432x288 with 1 Axes>"
      ]
     },
     "metadata": {
      "needs_background": "light"
     },
     "output_type": "display_data"
    }
   ],
   "source": [
    "plt.plot([i for i in range(m)],z[0:m],'r')\n",
    "plt.plot([i for i in range(m,m+ts)],z[m:m+ts],'g')"
   ]
  },
  {
   "cell_type": "code",
   "execution_count": 47,
   "id": "7bbec80a",
   "metadata": {},
   "outputs": [],
   "source": [
    "obj = []\n",
    "learning_rate = 0.01"
   ]
  },
  {
   "cell_type": "code",
   "execution_count": 48,
   "id": "06e1f82a",
   "metadata": {},
   "outputs": [],
   "source": [
    "tf.compat.v1.disable_eager_execution()"
   ]
  },
  {
   "cell_type": "code",
   "execution_count": 49,
   "id": "5cd257c1",
   "metadata": {},
   "outputs": [],
   "source": [
    "W = init_weights([m,1])\n",
    "U = init_weights([1,1])\n",
    "b = init_weights([1,1])\n",
    "dt = tf.Variable(tf.zeros([1,1]),dtype=tf.float32,trainable=False)\n",
    "features = tf.compat.v1.placeholder(tf.float32,shape = [m+ts,1])\n",
    "UT,r,delta = unfolded(features,W,b,U,dt)\n",
    "optimizer = tf.compat.v1.train.AdamOptimizer(learning_rate=learning_rate)\n",
    "train = optimizer.minimize(-UT)"
   ]
  },
  {
   "cell_type": "code",
   "execution_count": 50,
   "id": "0ae6d57a",
   "metadata": {},
   "outputs": [
    {
     "name": "stdout",
     "output_type": "stream",
     "text": [
      "[[0.21632499]]\n"
     ]
    }
   ],
   "source": [
    "aver = tf.compat.v1.train.Saver()\n",
    "init = tf.compat.v1.global_variables_initializer()\n",
    "steps = 1\n",
    "epochs = 2000\n",
    "with tf.compat.v1.Session() as sess:\n",
    "    sess.run(init)\n",
    "    for j in range(epochs):\n",
    "        ind = 0\n",
    "        for i in range(steps):\n",
    "            x_curr = next_batch(ind)\n",
    "            _,val,delt,w = sess.run([train,UT,delta,W],feed_dict = {features:x_curr.reshape([m+ts,1])})\n",
    "            obj.append(val[0][0])\n",
    "            ind = ind + m+ts\n",
    "    print(val)\n",
    "    saver = tf.compat.v1.train.Saver()\n",
    "    saver.save(sess, \"./currency\")\n",
    "    "
   ]
  },
  {
   "cell_type": "code",
   "execution_count": 51,
   "id": "b49a633a",
   "metadata": {},
   "outputs": [
    {
     "data": {
      "text/plain": [
       "10"
      ]
     },
     "execution_count": 51,
     "metadata": {},
     "output_type": "execute_result"
    }
   ],
   "source": [
    "len(z[0:ts])"
   ]
  },
  {
   "cell_type": "code",
   "execution_count": 52,
   "id": "2039672c",
   "metadata": {
    "scrolled": true
   },
   "outputs": [
    {
     "data": {
      "text/plain": [
       "[<matplotlib.lines.Line2D at 0x1a6cf5b9910>]"
      ]
     },
     "execution_count": 52,
     "metadata": {},
     "output_type": "execute_result"
    },
    {
     "data": {
      "image/png": "[encoded data removed]",
      "text/plain": [
       "<Figure size 432x288 with 1 Axes>"
      ]
     },
     "metadata": {
      "needs_background": "light"
     },
     "output_type": "display_data"
    }
   ],
   "source": [
    "plt.plot(obj,'r')"
   ]
  },
  {
   "cell_type": "code",
   "execution_count": null,
   "id": "bd5303aa",
   "metadata": {},
   "outputs": [],
   "source": []
  }
 ],
 "metadata": {
  "kernelspec": {
   "display_name": "Python 3",
   "language": "python",
   "name": "python3"
  },
  "language_info": {
   "codemirror_mode": {
    "name": "ipython",
    "version": 3
   },
   "file_extension": ".py",
   "mimetype": "text/x-python",
   "name": "python",
   "nbconvert_exporter": "python",
   "pygments_lexer": "ipython3",
   "version": "3.8.8"
  }
 },
 "nbformat": 4,
 "nbformat_minor": 5
}
